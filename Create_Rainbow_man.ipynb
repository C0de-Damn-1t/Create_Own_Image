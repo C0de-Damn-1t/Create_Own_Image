{
 "cells": [
  {
   "cell_type": "code",
   "execution_count": 1,
   "id": "8db77c2c",
   "metadata": {},
   "outputs": [],
   "source": [
    "import numpy as np\n",
    "import cv2"
   ]
  },
  {
   "cell_type": "code",
   "execution_count": 4,
   "id": "745dcc9d",
   "metadata": {},
   "outputs": [],
   "source": [
    "rainbow_man = np.full((1200, 900, 3), 255, dtype = \"uint8\")\n",
    "rainbow_man[100:200,270:370]=(165,42,42)\n",
    "rainbow_man[200:300,310:330]=(255,0,255)\n",
    "rainbow_man[300:600,220:420]=(0,255,0)\n",
    "rainbow_man[300:350,70:220]=(255,255,0)\n",
    "rainbow_man[300:350,420:570]=(255,255,0)\n",
    "rainbow_man[600:700,220:280]=(0,0,255)\n",
    "rainbow_man[600:700,360:420]=(0,255,255)\n"
   ]
  },
  {
   "cell_type": "code",
   "execution_count": 5,
   "id": "955337f8",
   "metadata": {},
   "outputs": [],
   "source": [
    "cv2.imshow('Single Channel Window', rainbow_man)\n",
    "cv2.waitKey(0)\n",
    "cv2.destroyAllWindows()"
   ]
  },
  {
   "cell_type": "code",
   "execution_count": null,
   "id": "d4839959",
   "metadata": {},
   "outputs": [],
   "source": []
  }
 ],
 "metadata": {
  "kernelspec": {
   "display_name": "Python 3",
   "language": "python",
   "name": "python3"
  },
  "language_info": {
   "codemirror_mode": {
    "name": "ipython",
    "version": 3
   },
   "file_extension": ".py",
   "mimetype": "text/x-python",
   "name": "python",
   "nbconvert_exporter": "python",
   "pygments_lexer": "ipython3",
   "version": "3.8.8"
  }
 },
 "nbformat": 4,
 "nbformat_minor": 5
}
